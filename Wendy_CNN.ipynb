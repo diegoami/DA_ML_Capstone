{
 "cells": [
  {
   "cell_type": "markdown",
   "metadata": {},
   "source": [
    "Load in required libraries, below."
   ]
  },
  {
   "cell_type": "code",
   "execution_count": 43,
   "metadata": {},
   "outputs": [],
   "source": [
    "# data \n",
    "import pandas as pd \n",
    "import numpy as np\n",
    "from sklearn.datasets import make_moons\n",
    "from sklearn.model_selection import train_test_split\n",
    "import matplotlib.pyplot as plt\n",
    "\n",
    "%matplotlib inline"
   ]
  },
  {
   "cell_type": "code",
   "execution_count": null,
   "metadata": {},
   "outputs": [],
   "source": []
  },
  {
   "cell_type": "markdown",
   "metadata": {
    "pycharm": {
     "name": "#%% md\n"
    }
   },
   "source": [
    "## SageMaker Resources\n",
    "\n",
    "The below cell stores the SageMaker session and role (for creating estimators and models), and creates a default S3 bucket. After creating this bucket, locally stored data can be uploaded to S3."
   ]
  },
  {
   "cell_type": "code",
   "execution_count": 37,
   "metadata": {},
   "outputs": [],
   "source": [
    "# sagemaker\n",
    "import boto3\n",
    "import sagemaker\n",
    "from sagemaker import get_execution_role"
   ]
  },
  {
   "cell_type": "code",
   "execution_count": 38,
   "metadata": {
    "pycharm": {
     "name": "#%%\n"
    }
   },
   "outputs": [],
   "source": [
    "# SageMaker session and role\n",
    "sagemaker_session = sagemaker.Session()\n",
    "role = sagemaker.get_execution_role()\n",
    "\n",
    "# default S3 bucket\n",
    "bucket = sagemaker_session.default_bucket()"
   ]
  },
  {
   "cell_type": "markdown",
   "metadata": {},
   "source": [
    "Here we retrieve the dataset of images and we upload it to S3\n"
   ]
  },
  {
   "cell_type": "code",
   "execution_count": 9,
   "metadata": {
    "pycharm": {
     "name": "#%%\n"
    }
   },
   "outputs": [
    {
     "name": "stdout",
     "output_type": "stream",
     "text": [
      "--2020-10-18 21:09:16--  https://da-youtube-ml.s3.eu-central-1.amazonaws.com/wendy-cnn/frames/wendy_cnn_frames_data.zip\n",
      "Resolving da-youtube-ml.s3.eu-central-1.amazonaws.com (da-youtube-ml.s3.eu-central-1.amazonaws.com)... 52.219.75.180\n",
      "Connecting to da-youtube-ml.s3.eu-central-1.amazonaws.com (da-youtube-ml.s3.eu-central-1.amazonaws.com)|52.219.75.180|:443... connected.\n",
      "HTTP request sent, awaiting response... 200 OK\n",
      "Length: 3406848357 (3.2G) [application/zip]\n",
      "Saving to: ‘wendy_cnn_frames_data.zip’\n",
      "\n",
      "wendy_cnn_frames_da 100%[===================>]   3.17G  91.9MB/s    in 34s     \n",
      "\n",
      "2020-10-18 21:09:50 (95.0 MB/s) - ‘wendy_cnn_frames_data.zip’ saved [3406848357/3406848357]\n",
      "\n",
      "s3://sagemaker-eu-central-1-283211002347/cnn-wendy\n"
     ]
    }
   ],
   "source": [
    "!wget -nc https://da-youtube-ml.s3.eu-central-1.amazonaws.com/wendy-cnn/frames/wendy_cnn_frames_data.zip\n",
    "!unzip -qq -n wendy_cnn_frames_data.zip -d wendy_cnn_frames_data \n",
    "!rm wendy_cnn_frames_data.zip\n",
    "prefix='cnn-wendy'\n",
    "\n",
    "# upload to S3\n",
    "input_data = sagemaker_session.upload_data(path='wendy_cnn_frames_data', bucket=bucket, key_prefix=prefix)\n",
    "print(input_data)"
   ]
  },
  {
   "cell_type": "markdown",
   "metadata": {},
   "source": [
    "After uploading images to S3, we can define and train the estimator\n"
   ]
  },
  {
   "cell_type": "code",
   "execution_count": 41,
   "metadata": {
    "pycharm": {
     "name": "#%%\n"
    }
   },
   "outputs": [],
   "source": [
    "# import a PyTorch wrapper\n",
    "from sagemaker.pytorch import PyTorch\n",
    "\n",
    "# specify an output path\n",
    "# prefix is specified above\n",
    "output_path = 's3://{}/{}'.format(bucket, prefix)\n",
    "\n",
    "# instantiate a pytorch estimator\n",
    "estimator = PyTorch(entry_point='train.py',\n",
    "                    source_dir='letsplay_classifier',\n",
    "                    role=role,\n",
    "                    framework_version='1.6',\n",
    "                    train_instance_count=1,\n",
    "                    train_instance_type='ml.p2.xlarge',\n",
    "                    train_volume_size = 10,\n",
    "                    output_path=output_path,\n",
    "                    sagemaker_session=sagemaker_session,\n",
    "                    hyperparameters={\n",
    "                        'img-width': 128,\n",
    "                        'img-height': 72,\n",
    "                        'batch-size': 16,\n",
    "                        'epochs': 10\n",
    "                    })"
   ]
  },
  {
   "cell_type": "markdown",
   "metadata": {},
   "source": [
    "## Train the Estimator\n",
    "\n",
    "After instantiating the estimator, we train it with a call to `.fit()`. "
   ]
  },
  {
   "cell_type": "code",
   "execution_count": null,
   "metadata": {},
   "outputs": [
    {
     "name": "stderr",
     "output_type": "stream",
     "text": [
      "'create_image_uri' will be deprecated in favor of 'ImageURIProvider' class in SageMaker Python SDK v2.\n",
      "'s3_input' class will be renamed to 'TrainingInput' in SageMaker Python SDK v2.\n",
      "'create_image_uri' will be deprecated in favor of 'ImageURIProvider' class in SageMaker Python SDK v2.\n"
     ]
    },
    {
     "name": "stdout",
     "output_type": "stream",
     "text": [
      "2020-10-19 00:23:13 Starting - Starting the training job...\n",
      "2020-10-19 00:23:14 Starting - Launching requested ML instances......\n",
      "2020-10-19 00:24:17 Starting - Preparing the instances for training......\n",
      "2020-10-19 00:25:29 Downloading - Downloading input data.................................\n",
      "2020-10-19 00:31:05 Training - Downloading the training image..\u001b[34mbash: cannot set terminal process group (-1): Inappropriate ioctl for device\u001b[0m\n",
      "\u001b[34mbash: no job control in this shell\u001b[0m\n",
      "\u001b[34m2020-10-19 00:31:29,028 sagemaker-training-toolkit INFO     Imported framework sagemaker_pytorch_container.training\u001b[0m\n",
      "\u001b[34m2020-10-19 00:31:29,051 sagemaker_pytorch_container.training INFO     Block until all host DNS lookups succeed.\u001b[0m\n",
      "\n",
      "2020-10-19 00:31:27 Training - Training image download completed. Training in progress.\u001b[34m2020-10-19 00:31:35,273 sagemaker_pytorch_container.training INFO     Invoking user training script.\u001b[0m\n",
      "\u001b[34m2020-10-19 00:31:35,778 sagemaker-training-toolkit INFO     Installing dependencies from requirements.txt:\u001b[0m\n",
      "\u001b[34m/opt/conda/bin/python -m pip install -r requirements.txt\u001b[0m\n",
      "\u001b[34mRequirement already satisfied: scikit-learn in /opt/conda/lib/python3.6/site-packages (from -r requirements.txt (line 1)) (0.23.2)\u001b[0m\n",
      "\u001b[34mRequirement already satisfied: torch==1.6.0 in /opt/conda/lib/python3.6/site-packages (from -r requirements.txt (line 2)) (1.6.0)\u001b[0m\n",
      "\u001b[34mCollecting torchdata==0.2.0\n",
      "  Downloading torchdata-0.2.0-py3-none-any.whl (27 kB)\u001b[0m\n",
      "\u001b[34mRequirement already satisfied: torchvision==0.7.0 in /opt/conda/lib/python3.6/site-packages (from -r requirements.txt (line 4)) (0.7.0)\u001b[0m\n",
      "\u001b[34mRequirement already satisfied: threadpoolctl>=2.0.0 in /opt/conda/lib/python3.6/site-packages (from scikit-learn->-r requirements.txt (line 1)) (2.1.0)\u001b[0m\n",
      "\u001b[34mRequirement already satisfied: scipy>=0.19.1 in /opt/conda/lib/python3.6/site-packages (from scikit-learn->-r requirements.txt (line 1)) (1.5.2)\u001b[0m\n",
      "\u001b[34mRequirement already satisfied: joblib>=0.11 in /opt/conda/lib/python3.6/site-packages (from scikit-learn->-r requirements.txt (line 1)) (0.17.0)\u001b[0m\n",
      "\u001b[34mRequirement already satisfied: numpy>=1.13.3 in /opt/conda/lib/python3.6/site-packages (from scikit-learn->-r requirements.txt (line 1)) (1.19.1)\u001b[0m\n",
      "\u001b[34mRequirement already satisfied: future in /opt/conda/lib/python3.6/site-packages (from torch==1.6.0->-r requirements.txt (line 2)) (0.18.2)\u001b[0m\n",
      "\u001b[34mRequirement already satisfied: pillow>=4.1.1 in /opt/conda/lib/python3.6/site-packages (from torchvision==0.7.0->-r requirements.txt (line 4)) (7.2.0)\u001b[0m\n",
      "\u001b[34mInstalling collected packages: torchdata\u001b[0m\n",
      "\u001b[34mSuccessfully installed torchdata-0.2.0\u001b[0m\n",
      "\u001b[34m2020-10-19 00:31:38,048 sagemaker-training-toolkit INFO     Invoking user script\n",
      "\u001b[0m\n",
      "\u001b[34mTraining Env:\n",
      "\u001b[0m\n",
      "\u001b[34m{\n",
      "    \"additional_framework_parameters\": {},\n",
      "    \"channel_input_dirs\": {\n",
      "        \"train\": \"/opt/ml/input/data/train\"\n",
      "    },\n",
      "    \"current_host\": \"algo-1\",\n",
      "    \"framework_module\": \"sagemaker_pytorch_container.training:main\",\n",
      "    \"hosts\": [\n",
      "        \"algo-1\"\n",
      "    ],\n",
      "    \"hyperparameters\": {\n",
      "        \"batch-size\": 16,\n",
      "        \"img-width\": 128,\n",
      "        \"epochs\": 10,\n",
      "        \"img-height\": 72\n",
      "    },\n",
      "    \"input_config_dir\": \"/opt/ml/input/config\",\n",
      "    \"input_data_config\": {\n",
      "        \"train\": {\n",
      "            \"TrainingInputMode\": \"File\",\n",
      "            \"S3DistributionType\": \"FullyReplicated\",\n",
      "            \"RecordWrapperType\": \"None\"\n",
      "        }\n",
      "    },\n",
      "    \"input_dir\": \"/opt/ml/input\",\n",
      "    \"is_master\": true,\n",
      "    \"job_name\": \"pytorch-training-2020-10-19-00-23-12-908\",\n",
      "    \"log_level\": 20,\n",
      "    \"master_hostname\": \"algo-1\",\n",
      "    \"model_dir\": \"/opt/ml/model\",\n",
      "    \"module_dir\": \"s3://sagemaker-eu-central-1-283211002347/pytorch-training-2020-10-19-00-23-12-908/source/sourcedir.tar.gz\",\n",
      "    \"module_name\": \"train\",\n",
      "    \"network_interface_name\": \"eth0\",\n",
      "    \"num_cpus\": 4,\n",
      "    \"num_gpus\": 1,\n",
      "    \"output_data_dir\": \"/opt/ml/output/data\",\n",
      "    \"output_dir\": \"/opt/ml/output\",\n",
      "    \"output_intermediate_dir\": \"/opt/ml/output/intermediate\",\n",
      "    \"resource_config\": {\n",
      "        \"current_host\": \"algo-1\",\n",
      "        \"hosts\": [\n",
      "            \"algo-1\"\n",
      "        ],\n",
      "        \"network_interface_name\": \"eth0\"\n",
      "    },\n",
      "    \"user_entry_point\": \"train.py\"\u001b[0m\n",
      "\u001b[34m}\n",
      "\u001b[0m\n",
      "\u001b[34mEnvironment variables:\n",
      "\u001b[0m\n",
      "\u001b[34mSM_HOSTS=[\"algo-1\"]\u001b[0m\n",
      "\u001b[34mSM_NETWORK_INTERFACE_NAME=eth0\u001b[0m\n",
      "\u001b[34mSM_HPS={\"batch-size\":16,\"epochs\":10,\"img-height\":72,\"img-width\":128}\u001b[0m\n",
      "\u001b[34mSM_USER_ENTRY_POINT=train.py\u001b[0m\n",
      "\u001b[34mSM_FRAMEWORK_PARAMS={}\u001b[0m\n",
      "\u001b[34mSM_RESOURCE_CONFIG={\"current_host\":\"algo-1\",\"hosts\":[\"algo-1\"],\"network_interface_name\":\"eth0\"}\u001b[0m\n",
      "\u001b[34mSM_INPUT_DATA_CONFIG={\"train\":{\"RecordWrapperType\":\"None\",\"S3DistributionType\":\"FullyReplicated\",\"TrainingInputMode\":\"File\"}}\u001b[0m\n",
      "\u001b[34mSM_OUTPUT_DATA_DIR=/opt/ml/output/data\u001b[0m\n",
      "\u001b[34mSM_CHANNELS=[\"train\"]\u001b[0m\n",
      "\u001b[34mSM_CURRENT_HOST=algo-1\u001b[0m\n",
      "\u001b[34mSM_MODULE_NAME=train\u001b[0m\n",
      "\u001b[34mSM_LOG_LEVEL=20\u001b[0m\n",
      "\u001b[34mSM_FRAMEWORK_MODULE=sagemaker_pytorch_container.training:main\u001b[0m\n",
      "\u001b[34mSM_INPUT_DIR=/opt/ml/input\u001b[0m\n",
      "\u001b[34mSM_INPUT_CONFIG_DIR=/opt/ml/input/config\u001b[0m\n",
      "\u001b[34mSM_OUTPUT_DIR=/opt/ml/output\u001b[0m\n",
      "\u001b[34mSM_NUM_CPUS=4\u001b[0m\n",
      "\u001b[34mSM_NUM_GPUS=1\u001b[0m\n",
      "\u001b[34mSM_MODEL_DIR=/opt/ml/model\u001b[0m\n",
      "\u001b[34mSM_MODULE_DIR=s3://sagemaker-eu-central-1-283211002347/pytorch-training-2020-10-19-00-23-12-908/source/sourcedir.tar.gz\u001b[0m\n",
      "\u001b[34mSM_TRAINING_ENV={\"additional_framework_parameters\":{},\"channel_input_dirs\":{\"train\":\"/opt/ml/input/data/train\"},\"current_host\":\"algo-1\",\"framework_module\":\"sagemaker_pytorch_container.training:main\",\"hosts\":[\"algo-1\"],\"hyperparameters\":{\"batch-size\":16,\"epochs\":10,\"img-height\":72,\"img-width\":128},\"input_config_dir\":\"/opt/ml/input/config\",\"input_data_config\":{\"train\":{\"RecordWrapperType\":\"None\",\"S3DistributionType\":\"FullyReplicated\",\"TrainingInputMode\":\"File\"}},\"input_dir\":\"/opt/ml/input\",\"is_master\":true,\"job_name\":\"pytorch-training-2020-10-19-00-23-12-908\",\"log_level\":20,\"master_hostname\":\"algo-1\",\"model_dir\":\"/opt/ml/model\",\"module_dir\":\"s3://sagemaker-eu-central-1-283211002347/pytorch-training-2020-10-19-00-23-12-908/source/sourcedir.tar.gz\",\"module_name\":\"train\",\"network_interface_name\":\"eth0\",\"num_cpus\":4,\"num_gpus\":1,\"output_data_dir\":\"/opt/ml/output/data\",\"output_dir\":\"/opt/ml/output\",\"output_intermediate_dir\":\"/opt/ml/output/intermediate\",\"resource_config\":{\"current_host\":\"algo-1\",\"hosts\":[\"algo-1\"],\"network_interface_name\":\"eth0\"},\"user_entry_point\":\"train.py\"}\u001b[0m\n",
      "\u001b[34mSM_USER_ARGS=[\"--batch-size\",\"16\",\"--epochs\",\"10\",\"--img-height\",\"72\",\"--img-width\",\"128\"]\u001b[0m\n",
      "\u001b[34mSM_OUTPUT_INTERMEDIATE_DIR=/opt/ml/output/intermediate\u001b[0m\n",
      "\u001b[34mSM_CHANNEL_TRAIN=/opt/ml/input/data/train\u001b[0m\n",
      "\u001b[34mSM_HP_BATCH-SIZE=16\u001b[0m\n",
      "\u001b[34mSM_HP_IMG-WIDTH=128\u001b[0m\n",
      "\u001b[34mSM_HP_EPOCHS=10\u001b[0m\n",
      "\u001b[34mSM_HP_IMG-HEIGHT=72\u001b[0m\n",
      "\u001b[34mPYTHONPATH=/opt/ml/code:/opt/conda/bin:/opt/conda/lib/python36.zip:/opt/conda/lib/python3.6:/opt/conda/lib/python3.6/lib-dynload:/opt/conda/lib/python3.6/site-packages\n",
      "\u001b[0m\n",
      "\u001b[34mInvoking script with the following command:\n",
      "\u001b[0m\n",
      "\u001b[34m/opt/conda/bin/python train.py --batch-size 16 --epochs 10 --img-height 72 --img-width 128\n",
      "\n",
      "\u001b[0m\n",
      "\u001b[34mEpoch 0/10\u001b[0m\n",
      "\u001b[34m----------\u001b[0m\n",
      "\u001b[34m#015Training batch 0/2143\u001b[0m\n",
      "\u001b[34m[2020-10-19 00:31:51.109 algo-1:32 INFO json_config.py:90] Creating hook from json_config at /opt/ml/input/config/debughookconfig.json.\u001b[0m\n",
      "\u001b[34m[2020-10-19 00:31:51.109 algo-1:32 INFO hook.py:193] tensorboard_dir has not been set for the hook. SMDebug will not be exporting tensorboard summaries.\u001b[0m\n",
      "\u001b[34m[2020-10-19 00:31:51.109 algo-1:32 INFO hook.py:238] Saving to /opt/ml/output/tensors\u001b[0m\n",
      "\u001b[34m[2020-10-19 00:31:51.109 algo-1:32 INFO state_store.py:67] The checkpoint config file /opt/ml/input/config/checkpointconfig.json does not exist.\u001b[0m\n",
      "\u001b[34m[2020-10-19 00:31:51.137 algo-1:32 INFO hook.py:398] Monitoring the collections: losses\u001b[0m\n",
      "\u001b[34m[2020-10-19 00:31:51.138 algo-1:32 INFO hook.py:459] Hook is writing from the hook with pid: 32\n",
      "\u001b[0m\n",
      "\u001b[34m#015Training batch 100/2143\u001b[0m\n",
      "\u001b[34m#015Training batch 200/2143\u001b[0m\n",
      "\u001b[34m#015Training batch 300/2143\u001b[0m\n",
      "\u001b[34m#015Training batch 400/2143\u001b[0m\n",
      "\u001b[34m#015Training batch 500/2143\u001b[0m\n",
      "\u001b[34m#015Training batch 600/2143\u001b[0m\n",
      "\u001b[34m#015Training batch 700/2143\u001b[0m\n",
      "\u001b[34m#015Training batch 800/2143\u001b[0m\n",
      "\u001b[34m#015Training batch 900/2143\u001b[0m\n",
      "\u001b[34m#015Training batch 1000/2143\u001b[0m\n",
      "\u001b[34m#015Training batch 1100/2143\u001b[0m\n",
      "\u001b[34m#015Training batch 1200/2143\u001b[0m\n",
      "\u001b[34m#015Training batch 1300/2143\u001b[0m\n",
      "\u001b[34m#015Training batch 1400/2143\u001b[0m\n",
      "\u001b[34m#015Training batch 1500/2143\u001b[0m\n",
      "\u001b[34m#015Training batch 1600/2143\u001b[0m\n",
      "\u001b[34m#015Training batch 1700/2143\u001b[0m\n",
      "\u001b[34m#015Training batch 1800/2143\u001b[0m\n",
      "\u001b[34m#015Training batch 1900/2143\u001b[0m\n",
      "\u001b[34m#015Training batch 2000/2143\u001b[0m\n",
      "\u001b[34m#015Training batch 2100/2143\u001b[0m\n",
      "\u001b[34m#015Validation batch 0/715#015Validation batch 100/715#015Validation batch 200/715#015Validation batch 300/715#015Validation batch 400/715#015Validation batch 500/715#015Validation batch 600/715#015Validation batch 700/715\u001b[0m\n",
      "\u001b[34mEpoch 0 result: \u001b[0m\n",
      "\u001b[34mAvg loss (train): 0.0227\u001b[0m\n",
      "\u001b[34mAvg acc (train): 0.8895\u001b[0m\n",
      "\u001b[34mAvg loss (val): 0.0126\u001b[0m\n",
      "\u001b[34mAvg acc (val): 0.9369\u001b[0m\n",
      "\u001b[34m----------\n",
      "\u001b[0m\n",
      "\u001b[34mEpoch 1/10\u001b[0m\n",
      "\u001b[34m----------\u001b[0m\n",
      "\u001b[34m#015Training batch 0/2143\u001b[0m\n",
      "\u001b[34m#015Training batch 100/2143\u001b[0m\n",
      "\u001b[34m#015Training batch 200/2143\u001b[0m\n",
      "\u001b[34m#015Training batch 300/2143\u001b[0m\n",
      "\u001b[34m#015Training batch 400/2143\u001b[0m\n",
      "\u001b[34m#015Training batch 500/2143\u001b[0m\n",
      "\u001b[34m#015Training batch 600/2143\u001b[0m\n",
      "\u001b[34m#015Training batch 700/2143\u001b[0m\n",
      "\u001b[34m#015Training batch 800/2143\u001b[0m\n",
      "\u001b[34m#015Training batch 900/2143\u001b[0m\n",
      "\u001b[34m#015Training batch 1000/2143\u001b[0m\n",
      "\u001b[34m#015Training batch 1100/2143\u001b[0m\n",
      "\u001b[34m#015Training batch 1200/2143\u001b[0m\n",
      "\u001b[34m#015Training batch 1300/2143\u001b[0m\n",
      "\u001b[34m#015Training batch 1400/2143\u001b[0m\n",
      "\u001b[34m#015Training batch 1500/2143\u001b[0m\n",
      "\u001b[34m#015Training batch 1600/2143\u001b[0m\n",
      "\u001b[34m#015Training batch 1700/2143\u001b[0m\n",
      "\u001b[34m#015Training batch 1800/2143\u001b[0m\n",
      "\u001b[34m#015Training batch 1900/2143\u001b[0m\n",
      "\u001b[34m#015Training batch 2000/2143\u001b[0m\n",
      "\u001b[34m#015Training batch 2100/2143\u001b[0m\n",
      "\u001b[34m#015Validation batch 0/715#015Validation batch 100/715#015Validation batch 200/715#015Validation batch 300/715#015Validation batch 400/715#015Validation batch 500/715#015Validation batch 600/715#015Validation batch 700/715\u001b[0m\n",
      "\u001b[34mEpoch 1 result: \u001b[0m\n",
      "\u001b[34mAvg loss (train): 0.0127\u001b[0m\n",
      "\u001b[34mAvg acc (train): 0.9365\u001b[0m\n",
      "\u001b[34mAvg loss (val): 0.0085\u001b[0m\n",
      "\u001b[34mAvg acc (val): 0.9567\u001b[0m\n",
      "\u001b[34m----------\n",
      "\u001b[0m\n",
      "\u001b[34mEpoch 2/10\u001b[0m\n",
      "\u001b[34m----------\u001b[0m\n",
      "\u001b[34m#015Training batch 0/2143\u001b[0m\n",
      "\u001b[34m#015Training batch 100/2143\u001b[0m\n",
      "\u001b[34m#015Training batch 200/2143\u001b[0m\n",
      "\u001b[34m#015Training batch 300/2143\u001b[0m\n",
      "\u001b[34m#015Training batch 400/2143\u001b[0m\n",
      "\u001b[34m#015Training batch 500/2143\u001b[0m\n",
      "\u001b[34m#015Training batch 600/2143\u001b[0m\n",
      "\u001b[34m#015Training batch 700/2143\u001b[0m\n",
      "\u001b[34m#015Training batch 800/2143\u001b[0m\n",
      "\u001b[34m#015Training batch 900/2143\u001b[0m\n",
      "\u001b[34m#015Training batch 1000/2143\u001b[0m\n",
      "\u001b[34m#015Training batch 1100/2143\u001b[0m\n",
      "\u001b[34m#015Training batch 1200/2143\u001b[0m\n",
      "\u001b[34m#015Training batch 1300/2143\u001b[0m\n",
      "\u001b[34m#015Training batch 1400/2143\u001b[0m\n",
      "\u001b[34m#015Training batch 1500/2143\u001b[0m\n",
      "\u001b[34m#015Training batch 1600/2143\u001b[0m\n",
      "\u001b[34m#015Training batch 1700/2143\u001b[0m\n",
      "\u001b[34m#015Training batch 1800/2143\u001b[0m\n",
      "\u001b[34m#015Training batch 1900/2143\u001b[0m\n",
      "\u001b[34m#015Training batch 2000/2143\u001b[0m\n",
      "\u001b[34m#015Training batch 2100/2143\u001b[0m\n",
      "\u001b[34m#015Validation batch 0/715#015Validation batch 100/715#015Validation batch 200/715#015Validation batch 300/715#015Validation batch 400/715#015Validation batch 500/715#015Validation batch 600/715#015Validation batch 700/715\u001b[0m\n",
      "\u001b[34mEpoch 2 result: \u001b[0m\n",
      "\u001b[34mAvg loss (train): 0.0088\u001b[0m\n",
      "\u001b[34mAvg acc (train): 0.9563\u001b[0m\n",
      "\u001b[34mAvg loss (val): 0.0077\u001b[0m\n",
      "\u001b[34mAvg acc (val): 0.9600\u001b[0m\n",
      "\u001b[34m----------\n",
      "\u001b[0m\n",
      "\u001b[34mEpoch 3/10\u001b[0m\n",
      "\u001b[34m----------\u001b[0m\n",
      "\u001b[34m#015Training batch 0/2143\u001b[0m\n",
      "\u001b[34m#015Training batch 100/2143\u001b[0m\n",
      "\u001b[34m#015Training batch 200/2143\u001b[0m\n",
      "\u001b[34m#015Training batch 300/2143\u001b[0m\n",
      "\u001b[34m#015Training batch 400/2143\u001b[0m\n",
      "\u001b[34m#015Training batch 500/2143\u001b[0m\n",
      "\u001b[34m#015Training batch 600/2143\u001b[0m\n",
      "\u001b[34m#015Training batch 700/2143\u001b[0m\n",
      "\u001b[34m#015Training batch 800/2143\u001b[0m\n",
      "\u001b[34m#015Training batch 900/2143\u001b[0m\n",
      "\u001b[34m#015Training batch 1000/2143\u001b[0m\n",
      "\u001b[34m#015Training batch 1100/2143\u001b[0m\n",
      "\u001b[34m#015Training batch 1200/2143\u001b[0m\n",
      "\u001b[34m#015Training batch 1300/2143\u001b[0m\n",
      "\u001b[34m#015Training batch 1400/2143\u001b[0m\n",
      "\u001b[34m#015Training batch 1500/2143\u001b[0m\n",
      "\u001b[34m#015Training batch 1600/2143\u001b[0m\n",
      "\u001b[34m#015Training batch 1700/2143\u001b[0m\n",
      "\u001b[34m#015Training batch 1800/2143\u001b[0m\n",
      "\u001b[34m#015Training batch 1900/2143\u001b[0m\n",
      "\u001b[34m#015Training batch 2000/2143\u001b[0m\n",
      "\u001b[34m#015Training batch 2100/2143\u001b[0m\n",
      "\u001b[34m#015Validation batch 0/715#015Validation batch 100/715#015Validation batch 200/715#015Validation batch 300/715#015Validation batch 400/715#015Validation batch 500/715#015Validation batch 600/715#015Validation batch 700/715\u001b[0m\n",
      "\u001b[34mEpoch 3 result: \u001b[0m\n",
      "\u001b[34mAvg loss (train): 0.0073\u001b[0m\n",
      "\u001b[34mAvg acc (train): 0.9633\u001b[0m\n",
      "\u001b[34mAvg loss (val): 0.0065\u001b[0m\n",
      "\u001b[34mAvg acc (val): 0.9690\u001b[0m\n",
      "\u001b[34m----------\n",
      "\u001b[0m\n",
      "\u001b[34mEpoch 4/10\u001b[0m\n",
      "\u001b[34m----------\u001b[0m\n",
      "\u001b[34m#015Training batch 0/2143\u001b[0m\n",
      "\u001b[34m#015Training batch 100/2143\u001b[0m\n",
      "\u001b[34m#015Training batch 200/2143\u001b[0m\n",
      "\u001b[34m#015Training batch 300/2143\u001b[0m\n",
      "\u001b[34m#015Training batch 400/2143\u001b[0m\n",
      "\u001b[34m#015Training batch 500/2143\u001b[0m\n",
      "\u001b[34m#015Training batch 600/2143\u001b[0m\n",
      "\u001b[34m#015Training batch 700/2143\u001b[0m\n",
      "\u001b[34m#015Training batch 800/2143\u001b[0m\n",
      "\u001b[34m#015Training batch 900/2143\u001b[0m\n",
      "\u001b[34m#015Training batch 1000/2143\u001b[0m\n",
      "\u001b[34m#015Training batch 1100/2143\u001b[0m\n",
      "\u001b[34m#015Training batch 1200/2143\u001b[0m\n",
      "\u001b[34m#015Training batch 1300/2143\u001b[0m\n",
      "\u001b[34m#015Training batch 1400/2143\u001b[0m\n",
      "\u001b[34m#015Training batch 1500/2143\u001b[0m\n",
      "\u001b[34m#015Training batch 1600/2143\u001b[0m\n",
      "\u001b[34m#015Training batch 1700/2143\u001b[0m\n",
      "\u001b[34m#015Training batch 1800/2143\u001b[0m\n",
      "\u001b[34m#015Training batch 1900/2143\u001b[0m\n",
      "\u001b[34m#015Training batch 2000/2143\u001b[0m\n",
      "\u001b[34m#015Training batch 2100/2143\u001b[0m\n",
      "\u001b[34m#015Validation batch 0/715#015Validation batch 100/715#015Validation batch 200/715#015Validation batch 300/715#015Validation batch 400/715#015Validation batch 500/715#015Validation batch 600/715#015Validation batch 700/715\u001b[0m\n",
      "\u001b[34mEpoch 4 result: \u001b[0m\n",
      "\u001b[34mAvg loss (train): 0.0059\u001b[0m\n",
      "\u001b[34mAvg acc (train): 0.9709\u001b[0m\n",
      "\u001b[34mAvg loss (val): 0.0062\u001b[0m\n",
      "\u001b[34mAvg acc (val): 0.9713\u001b[0m\n",
      "\u001b[34m----------\n",
      "\u001b[0m\n",
      "\u001b[34mEpoch 5/10\u001b[0m\n",
      "\u001b[34m----------\u001b[0m\n",
      "\u001b[34m#015Training batch 0/2143\u001b[0m\n",
      "\u001b[34m#015Training batch 100/2143\u001b[0m\n",
      "\u001b[34m#015Training batch 200/2143\u001b[0m\n",
      "\u001b[34m#015Training batch 300/2143\u001b[0m\n",
      "\u001b[34m#015Training batch 400/2143\u001b[0m\n",
      "\u001b[34m#015Training batch 500/2143\u001b[0m\n",
      "\u001b[34m#015Training batch 600/2143\u001b[0m\n",
      "\u001b[34m#015Training batch 700/2143\u001b[0m\n",
      "\u001b[34m#015Training batch 800/2143\u001b[0m\n"
     ]
    }
   ],
   "source": [
    "%%time \n",
    "# train the estimator on S3 training data\n",
    "estimator.fit({'train': input_data})"
   ]
  },
  {
   "cell_type": "markdown",
   "metadata": {},
   "source": [
    "We set up a model that can predict the class of an image"
   ]
  },
  {
   "cell_type": "markdown",
   "metadata": {},
   "source": [
    "### Deploy the trained model\n",
    "\n",
    "We deploy our model to create a predictor. We'll use this to make predictions on our data and evaluate the model."
   ]
  },
  {
   "cell_type": "code",
   "execution_count": 49,
   "metadata": {},
   "outputs": [
    {
     "name": "stdout",
     "output_type": "stream",
     "text": [
      "s3://sagemaker-eu-central-1-283211002347/cnn-wendy/pytorch-training-2020-10-19-00-23-12-908/output/model.tar.gz\n"
     ]
    }
   ],
   "source": [
    "print(estimator.model_data)\n",
    "# importing PyTorchModel\n",
    "from sagemaker.pytorch import PyTorchModel\n",
    "\n",
    "# Create a model from the trained estimator data\n",
    "# And point to the prediction script\n",
    "model = PyTorchModel(model_data=estimator.model_data,\n",
    "                     role = role,\n",
    "                     framework_version='1.6',\n",
    "                     entry_point='predict.py',\n",
    "                     source_dir='letsplay_classifier')"
   ]
  },
  {
   "cell_type": "code",
   "execution_count": 51,
   "metadata": {},
   "outputs": [
    {
     "name": "stderr",
     "output_type": "stream",
     "text": [
      "'create_image_uri' will be deprecated in favor of 'ImageURIProvider' class in SageMaker Python SDK v2.\n",
      "Using already existing model: pytorch-inference-2020-10-19-04-13-18-987\n"
     ]
    },
    {
     "name": "stdout",
     "output_type": "stream",
     "text": [
      "-----------------!CPU times: user 38.2 s, sys: 5.96 s, total: 44.1 s\n",
      "Wall time: 9min 17s\n"
     ]
    }
   ],
   "source": [
    "%%time\n",
    "# deploy and create a predictor\n",
    "                \n",
    "predictor = model.deploy(initial_instance_count=1, instance_type='ml.p2.xlarge')"
   ]
  },
  {
   "cell_type": "markdown",
   "metadata": {},
   "source": [
    "Now that the model is deployed, we check how it performs on our full dataset,\n",
    "ensuring that the predictions make sense.\n"
   ]
  },
  {
   "cell_type": "code",
   "execution_count": 52,
   "metadata": {},
   "outputs": [
    {
     "ename": "ModelError",
     "evalue": "An error occurred (ModelError) when calling the InvokeEndpoint operation: Received server error (0) from model with message \"Your invocation timed out while waiting for a response from container model. Review the latency metrics for each container in Amazon CloudWatch, resolve the issue, and try again.\". See https://eu-central-1.console.aws.amazon.com/cloudwatch/home?region=eu-central-1#logEventViewer:group=/aws/sagemaker/Endpoints/pytorch-inference-2020-10-19-04-13-18-987 in account 283211002347 for more information.",
     "output_type": "error",
     "traceback": [
      "\u001b[0;31m---------------------------------------------------------------------------\u001b[0m",
      "\u001b[0;31mModelError\u001b[0m                                Traceback (most recent call last)",
      "\u001b[0;32m<ipython-input-52-1486cea01961>\u001b[0m in \u001b[0;36m<module>\u001b[0;34m\u001b[0m\n\u001b[1;32m     30\u001b[0m             \u001b[0mimage_data\u001b[0m \u001b[0;34m=\u001b[0m \u001b[0mImage\u001b[0m\u001b[0;34m.\u001b[0m\u001b[0mopen\u001b[0m\u001b[0;34m(\u001b[0m\u001b[0mf\u001b[0m\u001b[0;34m)\u001b[0m\u001b[0;34m\u001b[0m\u001b[0;34m\u001b[0m\u001b[0m\n\u001b[1;32m     31\u001b[0m \u001b[0;34m\u001b[0m\u001b[0m\n\u001b[0;32m---> 32\u001b[0;31m             \u001b[0mprediction_from_ep\u001b[0m \u001b[0;34m=\u001b[0m \u001b[0mpredictor\u001b[0m\u001b[0;34m.\u001b[0m\u001b[0mpredict\u001b[0m\u001b[0;34m(\u001b[0m\u001b[0mimage_data\u001b[0m\u001b[0;34m)\u001b[0m\u001b[0;34m\u001b[0m\u001b[0;34m\u001b[0m\u001b[0m\n\u001b[0m\u001b[1;32m     33\u001b[0m             \u001b[0mprediction\u001b[0m \u001b[0;34m=\u001b[0m \u001b[0mtorch\u001b[0m\u001b[0;34m.\u001b[0m\u001b[0mFloatTensor\u001b[0m\u001b[0;34m(\u001b[0m\u001b[0mprediction_from_ep\u001b[0m\u001b[0;34m)\u001b[0m\u001b[0;34m.\u001b[0m\u001b[0munsqueeze\u001b[0m\u001b[0;34m(\u001b[0m\u001b[0;36m0\u001b[0m\u001b[0;34m)\u001b[0m\u001b[0;34m\u001b[0m\u001b[0;34m\u001b[0m\u001b[0m\n\u001b[1;32m     34\u001b[0m \u001b[0;34m\u001b[0m\u001b[0m\n",
      "\u001b[0;32m~/anaconda3/envs/pytorch_p36/lib/python3.6/site-packages/sagemaker/predictor.py\u001b[0m in \u001b[0;36mpredict\u001b[0;34m(self, data, initial_args, target_model, target_variant)\u001b[0m\n\u001b[1;32m    111\u001b[0m \u001b[0;34m\u001b[0m\u001b[0m\n\u001b[1;32m    112\u001b[0m         \u001b[0mrequest_args\u001b[0m \u001b[0;34m=\u001b[0m \u001b[0mself\u001b[0m\u001b[0;34m.\u001b[0m\u001b[0m_create_request_args\u001b[0m\u001b[0;34m(\u001b[0m\u001b[0mdata\u001b[0m\u001b[0;34m,\u001b[0m \u001b[0minitial_args\u001b[0m\u001b[0;34m,\u001b[0m \u001b[0mtarget_model\u001b[0m\u001b[0;34m,\u001b[0m \u001b[0mtarget_variant\u001b[0m\u001b[0;34m)\u001b[0m\u001b[0;34m\u001b[0m\u001b[0;34m\u001b[0m\u001b[0m\n\u001b[0;32m--> 113\u001b[0;31m         \u001b[0mresponse\u001b[0m \u001b[0;34m=\u001b[0m \u001b[0mself\u001b[0m\u001b[0;34m.\u001b[0m\u001b[0msagemaker_session\u001b[0m\u001b[0;34m.\u001b[0m\u001b[0msagemaker_runtime_client\u001b[0m\u001b[0;34m.\u001b[0m\u001b[0minvoke_endpoint\u001b[0m\u001b[0;34m(\u001b[0m\u001b[0;34m**\u001b[0m\u001b[0mrequest_args\u001b[0m\u001b[0;34m)\u001b[0m\u001b[0;34m\u001b[0m\u001b[0;34m\u001b[0m\u001b[0m\n\u001b[0m\u001b[1;32m    114\u001b[0m         \u001b[0;32mreturn\u001b[0m \u001b[0mself\u001b[0m\u001b[0;34m.\u001b[0m\u001b[0m_handle_response\u001b[0m\u001b[0;34m(\u001b[0m\u001b[0mresponse\u001b[0m\u001b[0;34m)\u001b[0m\u001b[0;34m\u001b[0m\u001b[0;34m\u001b[0m\u001b[0m\n\u001b[1;32m    115\u001b[0m \u001b[0;34m\u001b[0m\u001b[0m\n",
      "\u001b[0;32m~/anaconda3/envs/pytorch_p36/lib/python3.6/site-packages/botocore/client.py\u001b[0m in \u001b[0;36m_api_call\u001b[0;34m(self, *args, **kwargs)\u001b[0m\n\u001b[1;32m    335\u001b[0m                     \"%s() only accepts keyword arguments.\" % py_operation_name)\n\u001b[1;32m    336\u001b[0m             \u001b[0;31m# The \"self\" in this scope is referring to the BaseClient.\u001b[0m\u001b[0;34m\u001b[0m\u001b[0;34m\u001b[0m\u001b[0;34m\u001b[0m\u001b[0m\n\u001b[0;32m--> 337\u001b[0;31m             \u001b[0;32mreturn\u001b[0m \u001b[0mself\u001b[0m\u001b[0;34m.\u001b[0m\u001b[0m_make_api_call\u001b[0m\u001b[0;34m(\u001b[0m\u001b[0moperation_name\u001b[0m\u001b[0;34m,\u001b[0m \u001b[0mkwargs\u001b[0m\u001b[0;34m)\u001b[0m\u001b[0;34m\u001b[0m\u001b[0;34m\u001b[0m\u001b[0m\n\u001b[0m\u001b[1;32m    338\u001b[0m \u001b[0;34m\u001b[0m\u001b[0m\n\u001b[1;32m    339\u001b[0m         \u001b[0m_api_call\u001b[0m\u001b[0;34m.\u001b[0m\u001b[0m__name__\u001b[0m \u001b[0;34m=\u001b[0m \u001b[0mstr\u001b[0m\u001b[0;34m(\u001b[0m\u001b[0mpy_operation_name\u001b[0m\u001b[0;34m)\u001b[0m\u001b[0;34m\u001b[0m\u001b[0;34m\u001b[0m\u001b[0m\n",
      "\u001b[0;32m~/anaconda3/envs/pytorch_p36/lib/python3.6/site-packages/botocore/client.py\u001b[0m in \u001b[0;36m_make_api_call\u001b[0;34m(self, operation_name, api_params)\u001b[0m\n\u001b[1;32m    654\u001b[0m             \u001b[0merror_code\u001b[0m \u001b[0;34m=\u001b[0m \u001b[0mparsed_response\u001b[0m\u001b[0;34m.\u001b[0m\u001b[0mget\u001b[0m\u001b[0;34m(\u001b[0m\u001b[0;34m\"Error\"\u001b[0m\u001b[0;34m,\u001b[0m \u001b[0;34m{\u001b[0m\u001b[0;34m}\u001b[0m\u001b[0;34m)\u001b[0m\u001b[0;34m.\u001b[0m\u001b[0mget\u001b[0m\u001b[0;34m(\u001b[0m\u001b[0;34m\"Code\"\u001b[0m\u001b[0;34m)\u001b[0m\u001b[0;34m\u001b[0m\u001b[0;34m\u001b[0m\u001b[0m\n\u001b[1;32m    655\u001b[0m             \u001b[0merror_class\u001b[0m \u001b[0;34m=\u001b[0m \u001b[0mself\u001b[0m\u001b[0;34m.\u001b[0m\u001b[0mexceptions\u001b[0m\u001b[0;34m.\u001b[0m\u001b[0mfrom_code\u001b[0m\u001b[0;34m(\u001b[0m\u001b[0merror_code\u001b[0m\u001b[0;34m)\u001b[0m\u001b[0;34m\u001b[0m\u001b[0;34m\u001b[0m\u001b[0m\n\u001b[0;32m--> 656\u001b[0;31m             \u001b[0;32mraise\u001b[0m \u001b[0merror_class\u001b[0m\u001b[0;34m(\u001b[0m\u001b[0mparsed_response\u001b[0m\u001b[0;34m,\u001b[0m \u001b[0moperation_name\u001b[0m\u001b[0;34m)\u001b[0m\u001b[0;34m\u001b[0m\u001b[0;34m\u001b[0m\u001b[0m\n\u001b[0m\u001b[1;32m    657\u001b[0m         \u001b[0;32melse\u001b[0m\u001b[0;34m:\u001b[0m\u001b[0;34m\u001b[0m\u001b[0;34m\u001b[0m\u001b[0m\n\u001b[1;32m    658\u001b[0m             \u001b[0;32mreturn\u001b[0m \u001b[0mparsed_response\u001b[0m\u001b[0;34m\u001b[0m\u001b[0;34m\u001b[0m\u001b[0m\n",
      "\u001b[0;31mModelError\u001b[0m: An error occurred (ModelError) when calling the InvokeEndpoint operation: Received server error (0) from model with message \"Your invocation timed out while waiting for a response from container model. Review the latency metrics for each container in Amazon CloudWatch, resolve the issue, and try again.\". See https://eu-central-1.console.aws.amazon.com/cloudwatch/home?region=eu-central-1#logEventViewer:group=/aws/sagemaker/Endpoints/pytorch-inference-2020-10-19-04-13-18-987 in account 283211002347 for more information."
     ]
    }
   ],
   "source": [
    "import os\n",
    "import json\n",
    "import torch\n",
    "from PIL import Image\n",
    "\n",
    "import torch.nn as nn\n",
    "\n",
    "index = 0\n",
    "loss_test = 0\n",
    "acc_test = 0\n",
    "count = 0\n",
    "cur_data_dir = 'wendy_cnn_frames_data'\n",
    "dirs = sorted(os.listdir(cur_data_dir))\n",
    "avg_loss = 0\n",
    "avg_acc = 0\n",
    "\n",
    "# goes through all uncompressed images \n",
    "for dir in dirs:\n",
    "    \n",
    "    # as labels are sorted alphabetically, \n",
    "    labels = torch.empty(1, dtype=int)\n",
    "    labels[0] = index\n",
    "    \n",
    "    curr_img_dir = os.path.join(cur_data_dir, dir)\n",
    "    images = os.listdir(curr_img_dir)\n",
    "    for image in images:\n",
    "        curr_img = os.path.join(curr_img_dir, image)\n",
    "\n",
    "        with open(curr_img, 'rb') as f:\n",
    "            image_data = Image.open(f)\n",
    "           \n",
    "            prediction_from_ep = predictor.predict(image_data)  \n",
    "            prediction = torch.FloatTensor(prediction_from_ep).unsqueeze(0)\n",
    "\n",
    "            _, preds = torch.max(prediction.data, 1)\n",
    "            loss = criterion(prediction, labels)\n",
    "\n",
    "            loss_test += loss.data\n",
    "            acc_test += torch.sum(preds == labels.data)\n",
    "            count += 1\n",
    "            avg_loss = torch.true_divide(loss_test, count)\n",
    "            avg_acc = torch.true_divide(acc_test, count)\n",
    "            if (count % 100 == 0):\n",
    "                print(\"{} processed\".format(count))\n",
    "                print(\"Avg loss (test): {:.4f}\".format(avg_loss))\n",
    "                print(\"Avg acc (test): {:.4f}\".format(avg_acc))\n",
    "    index += 1\n",
    "    \n",
    "print(\"Avg loss (test): {:.4f}\".format(avg_loss))\n",
    "print(\"Avg acc (test): {:.4f}\".format(avg_acc))\n"
   ]
  },
  {
   "cell_type": "markdown",
   "metadata": {},
   "source": [
    "## Delete the Endpoint\n",
    "\n",
    "Finally, I've add a convenience function to delete prediction endpoints after we're done with them. And if you're done evaluating the model, you should delete your model endpoint!"
   ]
  },
  {
   "cell_type": "code",
   "execution_count": 18,
   "metadata": {},
   "outputs": [],
   "source": [
    "# Accepts a predictor endpoint as input\n",
    "# And deletes the endpoint by name\n",
    "def delete_endpoint(predictor):\n",
    "        try:\n",
    "            boto3.client('sagemaker').delete_endpoint(EndpointName=predictor.endpoint)\n",
    "            print('Deleted {}'.format(predictor.endpoint))\n",
    "        except:\n",
    "            print('Already deleted: {}'.format(predictor.endpoint))"
   ]
  },
  {
   "cell_type": "code",
   "execution_count": 19,
   "metadata": {},
   "outputs": [
    {
     "name": "stdout",
     "output_type": "stream",
     "text": [
      "Deleted sagemaker-pytorch-2019-03-12-03-24-09-384\n"
     ]
    }
   ],
   "source": [
    "# delete the predictor endpoint \n",
    "delete_endpoint(predictor)"
   ]
  }
 ],
 "metadata": {
  "kernelspec": {
   "display_name": "conda_pytorch_p36",
   "language": "python",
   "name": "conda_pytorch_p36"
  },
  "language_info": {
   "codemirror_mode": {
    "name": "ipython",
    "version": 3
   },
   "file_extension": ".py",
   "mimetype": "text/x-python",
   "name": "python",
   "nbconvert_exporter": "python",
   "pygments_lexer": "ipython3",
   "version": "3.6.10"
  }
 },
 "nbformat": 4,
 "nbformat_minor": 4
}
